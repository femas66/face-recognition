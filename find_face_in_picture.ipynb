{
 "cells": [
  {
   "cell_type": "code",
   "execution_count": 24,
   "id": "eb0d6841-9b21-4f10-a77e-263b555f58cd",
   "metadata": {},
   "outputs": [
    {
     "name": "stdout",
     "output_type": "stream",
     "text": [
      "Jumlah wajah ditemukan : 1\n"
     ]
    }
   ],
   "source": [
    "from PIL import Image\n",
    "import face_recognition\n",
    "\n",
    "image = face_recognition.load_image_file(\"example.jpg\")\n",
    "face_locations = face_recognition.face_locations(image)\n",
    "print(f\"Jumlah wajah ditemukan : {len(face_locations)}\")"
   ]
  },
  {
   "cell_type": "code",
   "execution_count": 25,
   "id": "8794156e-49d2-41df-9ca3-940f24b447ad",
   "metadata": {},
   "outputs": [],
   "source": [
    "\n",
    "for face_location in face_locations:\n",
    "    top, right, bottom, left = face_location\n",
    "    face_image = image[top:bottom, left:right]\n",
    "    pil_image = Image.fromarray(face_image)\n",
    "    pil_image.show()"
   ]
  }
 ],
 "metadata": {
  "kernelspec": {
   "display_name": "Python 3 (ipykernel)",
   "language": "python",
   "name": "python3"
  },
  "language_info": {
   "codemirror_mode": {
    "name": "ipython",
    "version": 3
   },
   "file_extension": ".py",
   "mimetype": "text/x-python",
   "name": "python",
   "nbconvert_exporter": "python",
   "pygments_lexer": "ipython3",
   "version": "3.12.4"
  }
 },
 "nbformat": 4,
 "nbformat_minor": 5
}
